{
 "cells": [
  {
   "cell_type": "markdown",
   "metadata": {},
   "source": [
    "# Create organizations & machines"
   ]
  },
  {
   "cell_type": "markdown",
   "metadata": {},
   "source": [
    "The goal of this notebook is to demonstrate how to use InUse api in order to automate creation, modifications & deletions of organizations & machines.\n",
    "\n",
    "Before going further, here's a quick reminder. Organizations are modeled using a 5 level hierarchy as follow:\n",
    "- `Manufacturer`\n",
    "  - `Producer `\n",
    "    - `Site`\n",
    "      - `Line`\n",
    "        - `Machine`\n",
    "        \n",
    "Please note that a `Machine` can have other machines as children, which make the hierarchy potentially limitless in terms of height. With this mechanism, it's possibe to represent machine, components, subcomponents etc."
   ]
  },
  {
   "cell_type": "markdown",
   "metadata": {
    "heading_collapsed": true
   },
   "source": [
    "## Imports"
   ]
  },
  {
   "cell_type": "code",
   "execution_count": null,
   "metadata": {
    "hidden": true
   },
   "outputs": [],
   "source": [
    "# Library used to type a password in a secured way.\n",
    "import getpass\n",
    "# Client library for the InUse API.\n",
    "from pyinuse import InUse\n",
    "# Library for logging\n",
    "import logging\n",
    "logging.basicConfig(format=\"%(asctime)s, %(name)s, %(levelname)s, %(message)s\", level=logging.INFO)"
   ]
  },
  {
   "cell_type": "markdown",
   "metadata": {},
   "source": [
    "## Create a client"
   ]
  },
  {
   "cell_type": "markdown",
   "metadata": {},
   "source": [
    "First of all, we will create a client and login with it."
   ]
  },
  {
   "cell_type": "code",
   "execution_count": null,
   "metadata": {},
   "outputs": [],
   "source": [
    "inuse = InUse()\n",
    "inuse.login(input(\"Username? \"), getpass.getpass(\"Password? \"))"
   ]
  },
  {
   "cell_type": "markdown",
   "metadata": {},
   "source": [
    "Great, you're now authentified!"
   ]
  },
  {
   "cell_type": "markdown",
   "metadata": {},
   "source": [
    "## Create a hierarchy"
   ]
  },
  {
   "cell_type": "markdown",
   "metadata": {},
   "source": [
    "Let's find the manufacturer. Since the `Manufacturer` is the root object of the organization, listing them will return a list of one item only."
   ]
  },
  {
   "cell_type": "code",
   "execution_count": null,
   "metadata": {},
   "outputs": [],
   "source": [
    "manufacturer = inuse.manufacturers.list()[0]"
   ]
  },
  {
   "cell_type": "markdown",
   "metadata": {},
   "source": [
    "Then, we will create a machine model named `Notebook machine model`."
   ]
  },
  {
   "cell_type": "code",
   "execution_count": null,
   "metadata": {},
   "outputs": [],
   "source": [
    "machine_model = inuse.machine_models.update_or_create(\n",
    "    params={\"manufacturer\": manufacturer[\"pk\"], \"code\": \"notebook-machine-model\"},\n",
    "    data={\n",
    "        \"manufacturer\": manufacturer[\"pk\"],\n",
    "        \"code\": \"notebook-machine-model\",\n",
    "        \"name\": \"Notebook machine model\",\n",
    "    },\n",
    ")"
   ]
  },
  {
   "cell_type": "markdown",
   "metadata": {},
   "source": [
    "Then, we will create a hierarchy composed of only one item per level: one producer, one site, one line & one machine. Obviously, you can create as many as you for each level."
   ]
  },
  {
   "cell_type": "code",
   "execution_count": null,
   "metadata": {},
   "outputs": [],
   "source": [
    "hierarchy = [\n",
    "    {\n",
    "        \"name\": \"Notebook producer\",\n",
    "        \"code\": \"notebook-producer\",\n",
    "        \"type\": \"producer\",\n",
    "        \"children\": [\n",
    "            {\n",
    "                \"code\": \"notebook-site-1\",\n",
    "                \"name\": \"Notebook site 1\",\n",
    "                \"type\": \"site\",\n",
    "                \"children\": [\n",
    "                    {\n",
    "                        \"type\": \"line\",\n",
    "                        \"code\": \"notebook-line-1\",\n",
    "                        \"name\": \"Notebook line 1\",\n",
    "                        \"children\": [\n",
    "                            {\n",
    "                                \"type\": \"machine\",\n",
    "                                \"code\": \"notebook-machine-1\",\n",
    "                                \"name\": \"Notebook machine 1\",\n",
    "                                \"machine_model\": machine_model[\"pk\"],\n",
    "                                \"visible_on_share\": True,\n",
    "                            }\n",
    "                        ],\n",
    "                    }\n",
    "                ],\n",
    "            }\n",
    "        ],\n",
    "    },\n",
    "]\n",
    "\n",
    "\n",
    "def run(parent, parent_type, obj):\n",
    "    if isinstance(obj, list):\n",
    "        for item in obj:\n",
    "            run(parent, parent_type, item)\n",
    "    else:\n",
    "        typ = obj.pop(\"type\")\n",
    "        api = getattr(inuse, f\"{typ}s\")\n",
    "        ret = api.update_or_create(\n",
    "            params={parent_type: parent[\"pk\"], \"code\": obj[\"code\"]},\n",
    "            data={**obj, parent_type: parent[\"pk\"]},\n",
    "        )\n",
    "        obj.update(ret)\n",
    "        run(obj, typ, obj.get(\"children\", []))\n",
    "\n",
    "\n",
    "run(manufacturer, \"manufacturer\", hierarchy)"
   ]
  },
  {
   "cell_type": "markdown",
   "metadata": {},
   "source": [
    "## Logout"
   ]
  },
  {
   "cell_type": "markdown",
   "metadata": {},
   "source": [
    "This is important to logout once it's done."
   ]
  },
  {
   "cell_type": "code",
   "execution_count": null,
   "metadata": {},
   "outputs": [],
   "source": [
    "inuse.logout()"
   ]
  }
 ],
 "metadata": {
  "kernelspec": {
   "display_name": "Python 3 (ipykernel)",
   "language": "python",
   "name": "python3"
  },
  "language_info": {
   "codemirror_mode": {
    "name": "ipython",
    "version": 3
   },
   "file_extension": ".py",
   "mimetype": "text/x-python",
   "name": "python",
   "nbconvert_exporter": "python",
   "pygments_lexer": "ipython3",
   "version": "3.8.6"
  }
 },
 "nbformat": 4,
 "nbformat_minor": 4
}
